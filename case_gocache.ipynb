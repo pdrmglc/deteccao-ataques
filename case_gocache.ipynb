{
 "cells": [
  {
   "cell_type": "code",
   "execution_count": 134,
   "id": "3837bb1f-333e-4908-8153-925b5329a998",
   "metadata": {},
   "outputs": [],
   "source": [
    "import pandas as pd  # Para manipulação de dados tabulares\n",
    "import numpy as np  # Para computação numérica eficiente\n",
    "import matplotlib.pyplot as plt  # Para plotagem de gráficos\n",
    "import scipy.stats as stats  # Para estatísticas\n",
    "import seaborn as sns  # Para visualização de dados\n",
    "from sklearn.cluster import KMeans  # Para clustering\n",
    "from sklearn.preprocessing import StandardScaler  # Para pré-processamento de dados\n",
    "from sklearn.decomposition import PCA  # Para redução de dimensionalidade\n",
    "from sklearn.impute import SimpleImputer  # Para imputação de valores ausentes"
   ]
  },
  {
   "cell_type": "code",
   "execution_count": 101,
   "id": "7a75a30d-ddcf-471d-bd6a-3ead7bad3c23",
   "metadata": {},
   "outputs": [
    {
     "name": "stderr",
     "output_type": "stream",
     "text": [
      "C:\\Users\\Acer\\AppData\\Local\\Temp\\ipykernel_17000\\2448451389.py:2: DtypeWarning: Columns (8) have mixed types. Specify dtype option on import or set low_memory=False.\n",
      "  df_normal = pd.read_csv('arquivo_sem_ataque.csv')\n"
     ]
    }
   ],
   "source": [
    "# Carregar os dados\n",
    "df_normal = pd.read_csv('arquivo_sem_ataque.csv')\n",
    "df_ataque = pd.read_csv('arquivo_com_ataque.csv')\n",
    "\n",
    "# Converter a coluna 'hora' para datetime\n",
    "df_normal['hora'] = pd.to_datetime(df_normal['hora'])\n",
    "df_ataque['hora'] = pd.to_datetime(df_ataque['hora'])"
   ]
  },
  {
   "cell_type": "code",
   "execution_count": 92,
   "id": "e04e5050-d395-408c-9f0e-71597aba64d6",
   "metadata": {},
   "outputs": [
    {
     "data": {
      "text/plain": [
       "Index(['hora', 'ip', 'metodo', 'protocolo', 'hostname', 'uri', 'querystring',\n",
       "       'status_code', 'f0_', 'useragent', 'tamanho_request',\n",
       "       'tamanho_resposta', 'organizacao', 'pais', 'cidade', 'cookie_sessao',\n",
       "       'fingerprint1', 'fingerprint2', 'fingerprint3'],\n",
       "      dtype='object')"
      ]
     },
     "execution_count": 92,
     "metadata": {},
     "output_type": "execute_result"
    }
   ],
   "source": [
    "df_normal.columns"
   ]
  },
  {
   "cell_type": "code",
   "execution_count": 102,
   "id": "6ce3a811-ea9e-4f7f-bb05-472fffbe332f",
   "metadata": {},
   "outputs": [
    {
     "name": "stdout",
     "output_type": "stream",
     "text": [
      "count     1440.000000\n",
      "mean       637.171528\n",
      "std        723.055929\n",
      "min        179.000000\n",
      "25%        378.750000\n",
      "50%        458.000000\n",
      "75%        620.000000\n",
      "max      10444.000000\n",
      "dtype: float64\n",
      "count     1440.000000\n",
      "mean       242.266667\n",
      "std        641.716583\n",
      "min         41.000000\n",
      "25%        140.000000\n",
      "50%        190.000000\n",
      "75%        244.000000\n",
      "max      15077.000000\n",
      "dtype: float64\n"
     ]
    }
   ],
   "source": [
    "# Contar o número de requisições por intervalo de 5 segundos\n",
    "df_normal.set_index('hora', inplace=True)\n",
    "df_ataque.set_index('hora', inplace=True)\n",
    "\n",
    "# Resample (agregação) a cada 5 segundos\n",
    "df_normal_resampled = df_normal.resample('5S').size()\n",
    "df_ataque_resampled = df_ataque.resample('5S').size()\n",
    "\n",
    "\n",
    "# Estatísticas descritivas do tráfego normal\n",
    "print(df_normal_resampled.describe())\n",
    "\n",
    "# Estatísticas descritivas do tráfego com ataque\n",
    "print(df_ataque_resampled.describe())\n",
    "\n",
    "\n"
   ]
  },
  {
   "cell_type": "code",
   "execution_count": 103,
   "id": "06fc6c8e-cc2f-4a7b-b025-db96a8ab8aef",
   "metadata": {},
   "outputs": [],
   "source": [
    "# Conferir a distribuição da derivada (variação de acessos a cada 5 segundos)\n",
    "df_normal_resampled_derivada = df_normal_resampled.copy()\n",
    "df_normal_resampled_derivada = df_normal_resampled_derivada.reset_index()\n",
    "\n",
    "df_ataque_resampled_derivada = df_ataque_resampled.copy()\n",
    "df_ataque_resampled_derivada = df_ataque_resampled_derivada.reset_index()\n",
    "\n",
    "# Criação da derivada para cada grupo\n",
    "## Sem ataque\n",
    "df_normal_resampled_derivada['derivada'] = df_normal_resampled_derivada[0].diff()\n",
    "df_normal_resampled_derivada = df_normal_resampled_derivada.dropna()\n",
    "\n",
    "## Com ataque\n",
    "df_ataque_resampled_derivada['derivada'] = df_ataque_resampled_derivada[0].diff()\n",
    "df_ataque_resampled_derivada = df_ataque_resampled_derivada.dropna()"
   ]
  },
  {
   "cell_type": "code",
   "execution_count": 135,
   "id": "5376bc5c-bef2-4c73-b897-6afd9bbf2250",
   "metadata": {},
   "outputs": [
    {
     "data": {
      "text/plain": [
       "(array([  1.,   0.,   0.,   1.,   3.,   3.,  17.,  36., 152., 718., 386.,\n",
       "         95.,  16.,   5.,   4.,   0.,   0.,   0.,   0.,   0.,   1.,   0.,\n",
       "          0.,   0.,   0.,   0.,   0.,   0.,   0.,   0.,   0.,   0.,   0.,\n",
       "          0.,   0.,   0.,   0.,   0.,   0.,   0.,   0.,   0.,   0.,   0.,\n",
       "          0.,   0.,   0.,   0.,   0.,   1.]),\n",
       " array([-1687.  , -1514.72, -1342.44, -1170.16,  -997.88,  -825.6 ,\n",
       "         -653.32,  -481.04,  -308.76,  -136.48,    35.8 ,   208.08,\n",
       "          380.36,   552.64,   724.92,   897.2 ,  1069.48,  1241.76,\n",
       "         1414.04,  1586.32,  1758.6 ,  1930.88,  2103.16,  2275.44,\n",
       "         2447.72,  2620.  ,  2792.28,  2964.56,  3136.84,  3309.12,\n",
       "         3481.4 ,  3653.68,  3825.96,  3998.24,  4170.52,  4342.8 ,\n",
       "         4515.08,  4687.36,  4859.64,  5031.92,  5204.2 ,  5376.48,\n",
       "         5548.76,  5721.04,  5893.32,  6065.6 ,  6237.88,  6410.16,\n",
       "         6582.44,  6754.72,  6927.  ]),\n",
       " <BarContainer object of 50 artists>)"
      ]
     },
     "execution_count": 135,
     "metadata": {},
     "output_type": "execute_result"
    },
    {
     "data": {
      "image/png": "[encoded data removed]",
      "text/plain": [
       "<Figure size 640x480 with 1 Axes>"
      ]
     },
     "metadata": {},
     "output_type": "display_data"
    }
   ],
   "source": [
    "# Plotar histograma da distribuição esperada de acessos normais\n",
    "plt.hist(df_normal_resampled_derivada['derivada'], bins=50)"
   ]
  },
  {
   "cell_type": "code",
   "execution_count": 96,
   "id": "e7162ef4-429c-488b-80a2-0cc6ce0f0876",
   "metadata": {},
   "outputs": [],
   "source": [
    "# Usar CDF para a probabilidade acumulada\n",
    "def prob_ataque(valor):\n",
    "    cumulative_probability = stats.norm.cdf(valor, mu, sigma)\n",
    "    if cumulative_probability <= 0.05:\n",
    "        return True\n",
    "    else:\n",
    "        return False"
   ]
  },
  {
   "cell_type": "code",
   "execution_count": 104,
   "id": "01e3c338-fef3-442a-baa3-04df907f8a19",
   "metadata": {},
   "outputs": [],
   "source": [
    "# Parâmetros da distribuição normal para sem ataque\n",
    "mu =  np.mean(df_normal_resampled_derivada['derivada'])    # Média\n",
    "sigma = np.std(df_normal_resampled_derivada['derivada'])  # Desvio padrão\n"
   ]
  },
  {
   "cell_type": "code",
   "execution_count": 105,
   "id": "d27336c2-2cc0-41c5-ab04-6efbc47a32e0",
   "metadata": {},
   "outputs": [],
   "source": [
    "# Identificar quando começou o ataque:\n",
    "df_ataque_resampled_derivada[\"ataque\"] = df_ataque_resampled_derivada['derivada'].apply(prob_ataque)"
   ]
  },
  {
   "cell_type": "code",
   "execution_count": 106,
   "id": "a87d8aa3-9990-4289-87f1-6cea48a2347d",
   "metadata": {},
   "outputs": [
    {
     "data": {
      "text/html": [
       "<div>\n",
       "<style scoped>\n",
       "    .dataframe tbody tr th:only-of-type {\n",
       "        vertical-align: middle;\n",
       "    }\n",
       "\n",
       "    .dataframe tbody tr th {\n",
       "        vertical-align: top;\n",
       "    }\n",
       "\n",
       "    .dataframe thead th {\n",
       "        text-align: right;\n",
       "    }\n",
       "</style>\n",
       "<table border=\"1\" class=\"dataframe\">\n",
       "  <thead>\n",
       "    <tr style=\"text-align: right;\">\n",
       "      <th></th>\n",
       "      <th>hora</th>\n",
       "      <th>0</th>\n",
       "      <th>derivada</th>\n",
       "      <th>ataque</th>\n",
       "    </tr>\n",
       "  </thead>\n",
       "  <tbody>\n",
       "    <tr>\n",
       "      <th>1</th>\n",
       "      <td>2024-05-15 14:00:05+00:00</td>\n",
       "      <td>182</td>\n",
       "      <td>-168.0</td>\n",
       "      <td>False</td>\n",
       "    </tr>\n",
       "    <tr>\n",
       "      <th>2</th>\n",
       "      <td>2024-05-15 14:00:10+00:00</td>\n",
       "      <td>258</td>\n",
       "      <td>76.0</td>\n",
       "      <td>False</td>\n",
       "    </tr>\n",
       "    <tr>\n",
       "      <th>3</th>\n",
       "      <td>2024-05-15 14:00:15+00:00</td>\n",
       "      <td>211</td>\n",
       "      <td>-47.0</td>\n",
       "      <td>False</td>\n",
       "    </tr>\n",
       "    <tr>\n",
       "      <th>4</th>\n",
       "      <td>2024-05-15 14:00:20+00:00</td>\n",
       "      <td>123</td>\n",
       "      <td>-88.0</td>\n",
       "      <td>False</td>\n",
       "    </tr>\n",
       "    <tr>\n",
       "      <th>5</th>\n",
       "      <td>2024-05-15 14:00:25+00:00</td>\n",
       "      <td>153</td>\n",
       "      <td>30.0</td>\n",
       "      <td>False</td>\n",
       "    </tr>\n",
       "    <tr>\n",
       "      <th>...</th>\n",
       "      <td>...</td>\n",
       "      <td>...</td>\n",
       "      <td>...</td>\n",
       "      <td>...</td>\n",
       "    </tr>\n",
       "    <tr>\n",
       "      <th>1435</th>\n",
       "      <td>2024-05-15 15:59:35+00:00</td>\n",
       "      <td>268</td>\n",
       "      <td>147.0</td>\n",
       "      <td>False</td>\n",
       "    </tr>\n",
       "    <tr>\n",
       "      <th>1436</th>\n",
       "      <td>2024-05-15 15:59:40+00:00</td>\n",
       "      <td>169</td>\n",
       "      <td>-99.0</td>\n",
       "      <td>False</td>\n",
       "    </tr>\n",
       "    <tr>\n",
       "      <th>1437</th>\n",
       "      <td>2024-05-15 15:59:45+00:00</td>\n",
       "      <td>99</td>\n",
       "      <td>-70.0</td>\n",
       "      <td>False</td>\n",
       "    </tr>\n",
       "    <tr>\n",
       "      <th>1438</th>\n",
       "      <td>2024-05-15 15:59:50+00:00</td>\n",
       "      <td>86</td>\n",
       "      <td>-13.0</td>\n",
       "      <td>False</td>\n",
       "    </tr>\n",
       "    <tr>\n",
       "      <th>1439</th>\n",
       "      <td>2024-05-15 15:59:55+00:00</td>\n",
       "      <td>175</td>\n",
       "      <td>89.0</td>\n",
       "      <td>False</td>\n",
       "    </tr>\n",
       "  </tbody>\n",
       "</table>\n",
       "<p>1439 rows × 4 columns</p>\n",
       "</div>"
      ],
      "text/plain": [
       "                          hora    0  derivada  ataque\n",
       "1    2024-05-15 14:00:05+00:00  182    -168.0   False\n",
       "2    2024-05-15 14:00:10+00:00  258      76.0   False\n",
       "3    2024-05-15 14:00:15+00:00  211     -47.0   False\n",
       "4    2024-05-15 14:00:20+00:00  123     -88.0   False\n",
       "5    2024-05-15 14:00:25+00:00  153      30.0   False\n",
       "...                        ...  ...       ...     ...\n",
       "1435 2024-05-15 15:59:35+00:00  268     147.0   False\n",
       "1436 2024-05-15 15:59:40+00:00  169     -99.0   False\n",
       "1437 2024-05-15 15:59:45+00:00   99     -70.0   False\n",
       "1438 2024-05-15 15:59:50+00:00   86     -13.0   False\n",
       "1439 2024-05-15 15:59:55+00:00  175      89.0   False\n",
       "\n",
       "[1439 rows x 4 columns]"
      ]
     },
     "execution_count": 106,
     "metadata": {},
     "output_type": "execute_result"
    }
   ],
   "source": [
    "df_ataque_resampled_derivada"
   ]
  },
  {
   "cell_type": "code",
   "execution_count": 136,
   "id": "6da08d4a-5caf-46a5-adb7-8ae8be880c35",
   "metadata": {},
   "outputs": [
    {
     "name": "stdout",
     "output_type": "stream",
     "text": [
      "O primeiro momento detectado do ataque foi em: 2024-05-15 15:01:05+00:00\n"
     ]
    }
   ],
   "source": [
    "primeiro_ataque_index = df_ataque_resampled_derivada[df_ataque_resampled_derivada['ataque'] == True].index[0]\n",
    "\n",
    "# Obter o valor da coluna 'hora' correspondente ao índice encontrado\n",
    "primeira_hora_ataque = df_ataque_resampled_derivada.loc[primeiro_ataque_index, 'hora']\n",
    "\n",
    "print(\"O primeiro momento detectado do ataque foi em:\", primeira_hora_ataque)"
   ]
  },
  {
   "cell_type": "code",
   "execution_count": 137,
   "id": "b924e708-c4bc-42c6-b46c-662efa9c77ac",
   "metadata": {},
   "outputs": [
    {
     "data": {
      "image/png": "[encoded data removed]",
      "text/plain": [
       "<Figure size 640x480 with 1 Axes>"
      ]
     },
     "metadata": {},
     "output_type": "display_data"
    }
   ],
   "source": [
    "# Criar um objeto Timedelta para subtrair 10 unidades de tempo para facilitar a visualização\n",
    "zoom_timedelta = pd.Timedelta(minutes=10)\n",
    "\n",
    "# Calcular os limites de zoom\n",
    "zoom_inicio = primeira_hora_ataque - zoom_timedelta\n",
    "zoom_fim = primeira_hora_ataque + zoom_timedelta\n",
    "\n",
    "# Criar o gráfico de linha com o zoom\n",
    "plt.plot(df_ataque_resampled_derivada['hora'], df_ataque_resampled_derivada[0])\n",
    "plt.axvline(x=primeira_hora_ataque, color='red', linestyle='--')\n",
    "\n",
    "# Ajustar os limites do eixo x para o intervalo de zoom\n",
    "plt.xlim(zoom_inicio, zoom_fim)\n",
    "\n",
    "# Adicionar rótulos e título\n",
    "plt.xlabel('Hora')\n",
    "plt.ylabel('Número de acessos')\n",
    "plt.title('Detecção do ataque')\n",
    "\n",
    "# Mostrar o gráfico\n",
    "plt.show()"
   ]
  },
  {
   "cell_type": "code",
   "execution_count": 138,
   "id": "a3791996-7913-4c56-9278-a3ecead7f30b",
   "metadata": {},
   "outputs": [
    {
     "data": {
      "text/plain": [
       "Index(['hora', 'ip', 'metodo', 'protocolo', 'hostname', 'uri', 'querystring',\n",
       "       'status_code', 'f0_', 'useragent', 'tamanho_request',\n",
       "       'tamanho_resposta', 'organizacao', 'pais', 'cidade', 'cookie_sessao',\n",
       "       'fingerprint1', 'fingerprint2', 'fingerprint3'],\n",
       "      dtype='object')"
      ]
     },
     "execution_count": 138,
     "metadata": {},
     "output_type": "execute_result"
    }
   ],
   "source": [
    "# Preparação para filtrar o dataframe original\n",
    "# Necessário devido à falta de memória RAM disponível\n",
    "\n",
    "df_ataque_copia = df_ataque.copy()\n",
    "df_ataque_copia = df_ataque_copia.reset_index()\n",
    "df_ataque_copia.columns"
   ]
  },
  {
   "cell_type": "code",
   "execution_count": 139,
   "id": "3abcf72d-9824-411e-9687-784f9867f837",
   "metadata": {},
   "outputs": [
    {
     "name": "stdout",
     "output_type": "stream",
     "text": [
      "[[5.82000000e+02 7.77000000e+02 2.00000000e+02 ... 0.00000000e+00\n",
      "  0.00000000e+00 0.00000000e+00]\n",
      " [8.60000000e+01 7.62540000e+04 2.00000000e+02 ... 0.00000000e+00\n",
      "  0.00000000e+00 0.00000000e+00]\n",
      " [8.70000000e+01 5.23000000e+02 2.00000000e+02 ... 0.00000000e+00\n",
      "  0.00000000e+00 0.00000000e+00]\n",
      " ...\n",
      " [1.54700000e+03 4.71571308e+04 4.04000000e+02 ... 0.00000000e+00\n",
      "  0.00000000e+00 0.00000000e+00]\n",
      " [1.63900000e+03 4.71571308e+04 4.04000000e+02 ... 0.00000000e+00\n",
      "  0.00000000e+00 0.00000000e+00]\n",
      " [4.60000000e+01 4.71571308e+04 4.04000000e+02 ... 0.00000000e+00\n",
      "  0.00000000e+00 0.00000000e+00]]\n"
     ]
    }
   ],
   "source": [
    "# Filtragem do draframe original no período que ocorre o ataque\n",
    "\n",
    "# Criar um objeto Timedelta para subtrair 10 unidades de tempo\n",
    "zoom_timedelta = pd.Timedelta(minutes=30)\n",
    "\n",
    "# Calcular os limites de zoom\n",
    "zoom_inicio = primeira_hora_ataque - zoom_timedelta\n",
    "zoom_fim = primeira_hora_ataque + zoom_timedelta\n",
    "\n",
    "df_ataque_filtered = df_ataque_copia.loc[(df_ataque_copia['hora'] >= zoom_inicio) & (df_ataque_copia['hora'] <= zoom_fim)]\n",
    "\n",
    "# Treinamento do modelo de clusterização para detecção dos atacantes\n",
    "\n",
    "# Selecionar as colunas relevantes para o modelo\n",
    "features = ['tamanho_request', 'tamanho_resposta', 'status_code', 'pais', 'cidade']\n",
    "X = df_ataque_filtered[features]\n",
    "\n",
    "\n",
    "\n",
    "# Codificar variáveis categóricas\n",
    "X = pd.get_dummies(X, columns=['pais', 'cidade'], drop_first=True)\n",
    "\n",
    "# Imputar valores ausentes\n",
    "imputer = SimpleImputer(strategy='mean')\n",
    "X_imputed = imputer.fit_transform(X)\n",
    "\n",
    "print(X_imputed)"
   ]
  },
  {
   "cell_type": "code",
   "execution_count": 140,
   "id": "b9c93b50-a50f-4342-bf5d-2bfe5db4321c",
   "metadata": {},
   "outputs": [
    {
     "name": "stderr",
     "output_type": "stream",
     "text": [
      "d:\\.pyspark-env\\lib\\site-packages\\sklearn\\cluster\\_kmeans.py:1416: FutureWarning: The default value of `n_init` will change from 10 to 'auto' in 1.4. Set the value of `n_init` explicitly to suppress the warning\n",
      "  super()._check_params_vs_input(X, default_n_init=10)\n",
      "C:\\Users\\Acer\\AppData\\Local\\Temp\\ipykernel_17000\\2384541841.py:19: SettingWithCopyWarning: \n",
      "A value is trying to be set on a copy of a slice from a DataFrame.\n",
      "Try using .loc[row_indexer,col_indexer] = value instead\n",
      "\n",
      "See the caveats in the documentation: https://pandas.pydata.org/pandas-docs/stable/user_guide/indexing.html#returning-a-view-versus-a-copy\n",
      "  df_ataque_filtered['cluster'] = kmeans.labels_\n"
     ]
    },
    {
     "data": {
      "image/png": "[encoded data removed]",
      "text/plain": [
       "<Figure size 1000x600 with 2 Axes>"
      ]
     },
     "metadata": {},
     "output_type": "display_data"
    }
   ],
   "source": [
    "# Pré-processamento dos dados\n",
    "\n",
    "# Imputar valores ausentes\n",
    "imputer = SimpleImputer(strategy='mean')\n",
    "X_imputed = imputer.fit_transform(X)\n",
    "\n",
    "scaler = StandardScaler()\n",
    "X_scaled = scaler.fit_transform(X_imputed)\n",
    "\n",
    "# Redução de dimensionalidade\n",
    "pca = PCA(n_components=2)\n",
    "X_pca = pca.fit_transform(X_scaled)\n",
    "\n",
    "# Treinamento do modelo\n",
    "kmeans = KMeans(n_clusters=2, random_state=42)\n",
    "kmeans.fit(X_pca)\n",
    "\n",
    "# Adicionando rótulos de cluster aos dados\n",
    "df_ataque_filtered['cluster'] = kmeans.labels_\n",
    "\n",
    "# Visualização dos clusters\n",
    "plt.figure(figsize=(10, 6))\n",
    "plt.scatter(X_pca[:, 0], X_pca[:, 1], c=df_ataque_filtered['cluster'])\n",
    "plt.xlabel('Componente Principal 1')\n",
    "plt.ylabel('Componente Principal 2')\n",
    "plt.title('Clusters')\n",
    "plt.colorbar(label='Cluster')\n",
    "plt.show()"
   ]
  }
 ],
 "metadata": {
  "kernelspec": {
   "display_name": "Python 3 (ipykernel)",
   "language": "python",
   "name": "python3"
  },
  "language_info": {
   "codemirror_mode": {
    "name": "ipython",
    "version": 3
   },
   "file_extension": ".py",
   "mimetype": "text/x-python",
   "name": "python",
   "nbconvert_exporter": "python",
   "pygments_lexer": "ipython3",
   "version": "3.8.3"
  }
 },
 "nbformat": 4,
 "nbformat_minor": 5
}
